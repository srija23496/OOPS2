{
 "cells": [
  {
   "cell_type": "code",
   "execution_count": 1,
   "id": "ff2abc5d-a7f8-4417-b154-d1e9af2964cb",
   "metadata": {},
   "outputs": [],
   "source": [
    "#1. Explain the importance of function.\n",
    "# Function are the block of codes for some basic computation.\n",
    "# function is important because:\n",
    "# It keeps your code neat and clean\n",
    "# code is reusable,dont need to write same code again and again."
   ]
  },
  {
   "cell_type": "code",
   "execution_count": 2,
   "id": "4a414716-a933-4cd4-ae32-b6b6ceb6fe69",
   "metadata": {},
   "outputs": [],
   "source": [
    "#2. Write a basic function to greet student.\n",
    "def greet(n):\n",
    "    print(\"goodmorning welcome to the class\",n)"
   ]
  },
  {
   "cell_type": "code",
   "execution_count": 3,
   "id": "496639dc-9235-4f01-9281-1caefca45ec0",
   "metadata": {},
   "outputs": [
    {
     "name": "stdout",
     "output_type": "stream",
     "text": [
      "goodmorning welcome to the class ajay\n"
     ]
    }
   ],
   "source": [
    "greet(\"ajay\")"
   ]
  },
  {
   "cell_type": "code",
   "execution_count": 4,
   "id": "054f0890-daef-4a13-addf-17ed1c577cf2",
   "metadata": {},
   "outputs": [],
   "source": [
    "#3. What is the difference between print and return statement.\n",
    "#Print statement is used to display output to the console or terminal.\n",
    "# Return statement is used to exit the function and return a value back to the caller."
   ]
  },
  {
   "cell_type": "code",
   "execution_count": 5,
   "id": "55b59eb6-a4a1-424e-8b68-112c5bc5e18f",
   "metadata": {},
   "outputs": [],
   "source": [
    "#4. What is *args and **kwargs.\n",
    "# *args are Arbituary arguments.\n",
    "# args are used to pass a variable of non keyword argument to a function.\n",
    "def func(*args):\n",
    "    for i in args:\n",
    "        print(i)"
   ]
  },
  {
   "cell_type": "code",
   "execution_count": 6,
   "id": "62c52c0b-9a7e-4438-9e1c-0a297e2fb780",
   "metadata": {},
   "outputs": [
    {
     "name": "stdout",
     "output_type": "stream",
     "text": [
      "hello\n"
     ]
    }
   ],
   "source": [
    "func(\"hello\")"
   ]
  },
  {
   "cell_type": "code",
   "execution_count": 7,
   "id": "63a2070d-151a-404e-9309-39453dfb0130",
   "metadata": {},
   "outputs": [],
   "source": [
    "# **kwargs is key value argument.\n",
    "# For writting a code in the form of key value pair.\n",
    "def func(**kwargs):\n",
    "    for key,value in kwargs.items():\n",
    "        print(key,value)"
   ]
  },
  {
   "cell_type": "code",
   "execution_count": 8,
   "id": "bb23c37c-6924-48dd-9dd2-dd976bd4d535",
   "metadata": {},
   "outputs": [
    {
     "name": "stdout",
     "output_type": "stream",
     "text": [
      "name MOMO\n",
      "age 30\n"
     ]
    }
   ],
   "source": [
    "func(name=\"MOMO\",age=30)"
   ]
  },
  {
   "cell_type": "code",
   "execution_count": 9,
   "id": "8e24843f-9cc8-417a-ba44-3a10d5fca523",
   "metadata": {},
   "outputs": [
    {
     "name": "stdout",
     "output_type": "stream",
     "text": [
      "1\n",
      "2\n",
      "34\n",
      "5\n"
     ]
    }
   ],
   "source": [
    "#5. Explain the iterator function.\n",
    "# A function that is used to iterate over iterable object.\n",
    "list=[1,2,34,5]\n",
    "for i in list:\n",
    "    print(i)"
   ]
  },
  {
   "cell_type": "code",
   "execution_count": 10,
   "id": "91795fe0-bc4b-470e-8f66-cfcf48674d7f",
   "metadata": {},
   "outputs": [],
   "source": [
    "#the above process is called iteration."
   ]
  },
  {
   "cell_type": "code",
   "execution_count": 11,
   "id": "f588d504-32f7-417c-9860-0319b82f87b6",
   "metadata": {},
   "outputs": [],
   "source": [
    "#6. Write a code that generates the square of number from 1 to n using a generator.\n",
    "def square_number_generator(n):\n",
    "    for i in range(n):\n",
    "        yield i**2"
   ]
  },
  {
   "cell_type": "code",
   "execution_count": 12,
   "id": "1ca6caa6-7334-40b2-9da3-cb04a148dd20",
   "metadata": {},
   "outputs": [],
   "source": [
    "gen=square_number_generator(5)"
   ]
  },
  {
   "cell_type": "code",
   "execution_count": 13,
   "id": "2445c7bc-8594-488d-a31f-c434078894fb",
   "metadata": {},
   "outputs": [
    {
     "data": {
      "text/plain": [
       "0"
      ]
     },
     "execution_count": 13,
     "metadata": {},
     "output_type": "execute_result"
    }
   ],
   "source": [
    "next(gen)"
   ]
  },
  {
   "cell_type": "code",
   "execution_count": 14,
   "id": "9683f4a4-bb0d-44ba-a1b3-c548db5b026a",
   "metadata": {},
   "outputs": [
    {
     "data": {
      "text/plain": [
       "1"
      ]
     },
     "execution_count": 14,
     "metadata": {},
     "output_type": "execute_result"
    }
   ],
   "source": [
    "next(gen)"
   ]
  },
  {
   "cell_type": "code",
   "execution_count": 15,
   "id": "eef2dc34-d869-4943-9e17-8e17aa8abd98",
   "metadata": {},
   "outputs": [
    {
     "data": {
      "text/plain": [
       "4"
      ]
     },
     "execution_count": 15,
     "metadata": {},
     "output_type": "execute_result"
    }
   ],
   "source": [
    "next(gen)"
   ]
  },
  {
   "cell_type": "code",
   "execution_count": 16,
   "id": "c9aae737-cee8-429f-90e5-59c315735fe4",
   "metadata": {},
   "outputs": [],
   "source": [
    "#7. Write a code to genarate palindromic numbers upto n using a generator.\n",
    "def palindromic_number(n):\n",
    "    for i in range(n):\n",
    "        if str(i)==str(i)[::-1]:\n",
    "            yield i\n",
    "        "
   ]
  },
  {
   "cell_type": "code",
   "execution_count": 17,
   "id": "356c1294-76dd-4b7a-8a06-4a5b9f24ff24",
   "metadata": {},
   "outputs": [],
   "source": [
    "num=palindromic_number(100)"
   ]
  },
  {
   "cell_type": "code",
   "execution_count": 18,
   "id": "64c74282-47fd-4c6f-bb9c-ae10b6fb9912",
   "metadata": {},
   "outputs": [
    {
     "data": {
      "text/plain": [
       "0"
      ]
     },
     "execution_count": 18,
     "metadata": {},
     "output_type": "execute_result"
    }
   ],
   "source": [
    "next(num)"
   ]
  },
  {
   "cell_type": "code",
   "execution_count": 19,
   "id": "2aeedb20-10cc-4e61-ac99-f63bbcfe0ba3",
   "metadata": {},
   "outputs": [
    {
     "data": {
      "text/plain": [
       "1"
      ]
     },
     "execution_count": 19,
     "metadata": {},
     "output_type": "execute_result"
    }
   ],
   "source": [
    "next(num)"
   ]
  },
  {
   "cell_type": "code",
   "execution_count": 20,
   "id": "a8319352-d389-4e35-965c-69270ea9f9ee",
   "metadata": {},
   "outputs": [],
   "source": [
    "#8. Write a code that generates even numbers from 2 to n using a generator.\n",
    "def even_number(n):\n",
    "    for num in range(2,n+1,2):\n",
    "        yield num\n",
    "    "
   ]
  },
  {
   "cell_type": "code",
   "execution_count": 21,
   "id": "a81fa1a4-5087-4916-8abc-eb3e7b33682d",
   "metadata": {},
   "outputs": [],
   "source": [
    "even=even_number(10)\n"
   ]
  },
  {
   "cell_type": "code",
   "execution_count": 22,
   "id": "06d9d3b1-5402-4e24-9881-c1701de0e0dc",
   "metadata": {},
   "outputs": [
    {
     "data": {
      "text/plain": [
       "2"
      ]
     },
     "execution_count": 22,
     "metadata": {},
     "output_type": "execute_result"
    }
   ],
   "source": [
    "next(even)"
   ]
  },
  {
   "cell_type": "code",
   "execution_count": 23,
   "id": "5b9b702a-44ca-4c66-9917-1a84d198a136",
   "metadata": {},
   "outputs": [
    {
     "name": "stdout",
     "output_type": "stream",
     "text": [
      "Powers of two up to 100 :\n",
      "1 2 4 8 16 32 64 "
     ]
    }
   ],
   "source": [
    "#9. Write a code that generates a power of two upto n using a generator.\n",
    "def generate_powers_of_two(n):\n",
    "    power = 1\n",
    "    while power <= n:\n",
    "        yield power\n",
    "        power *= 2\n",
    "# Example usage:\n",
    "n = 100\n",
    "powers_of_two_generator = generate_powers_of_two(n)\n",
    "\n",
    "print(\"Powers of two up to\", n, \":\")\n",
    "for power_of_two in powers_of_two_generator:\n",
    "    print(power_of_two, end=\" \")\n"
   ]
  },
  {
   "cell_type": "code",
   "execution_count": 24,
   "id": "94e8e4ee-cf7b-4c46-abf4-b89c6df82572",
   "metadata": {},
   "outputs": [
    {
     "name": "stdout",
     "output_type": "stream",
     "text": [
      "Prime numbers up to 50:\n",
      "2 3 5 7 11 13 17 19 23 29 31 37 41 43 47 "
     ]
    }
   ],
   "source": [
    "#10. Write a code that generates prime number upto n using a generator.\n",
    "def generate_primes(n):\n",
    "    def is_prime(num):\n",
    "        if num < 2:\n",
    "            return False\n",
    "        for i in range(2, int(num**0.5) + 1):\n",
    "            if num % i == 0:\n",
    "                return False\n",
    "        return True\n",
    "\n",
    "    for num in range(2, n + 1):\n",
    "        if is_prime(num):\n",
    "            yield num\n",
    "    \n",
    "    # Example usage:\n",
    "n = 50\n",
    "prime_generator = generate_primes(n)\n",
    "\n",
    "print(f\"Prime numbers up to {n}:\")\n",
    "for prime in prime_generator:\n",
    "    print(prime, end=\" \")"
   ]
  },
  {
   "cell_type": "code",
   "execution_count": 25,
   "id": "5b7913af-2e33-4386-b1b7-a5209de3e905",
   "metadata": {},
   "outputs": [],
   "source": [
    "#11. Writa a code that uses a lambda function to calculate the sum of two integers.\n",
    "add =lambda a,b : a+b"
   ]
  },
  {
   "cell_type": "code",
   "execution_count": 26,
   "id": "9c5225f0-c5b9-45b3-b086-5e5854d8a392",
   "metadata": {},
   "outputs": [
    {
     "data": {
      "text/plain": [
       "5"
      ]
     },
     "execution_count": 26,
     "metadata": {},
     "output_type": "execute_result"
    }
   ],
   "source": [
    "add(2,3)"
   ]
  },
  {
   "cell_type": "code",
   "execution_count": 27,
   "id": "b8a723d2-7825-4e2c-8fcf-ce47bbd0f0cc",
   "metadata": {},
   "outputs": [],
   "source": [
    "#12. Write a code that uses a lambda function to claculate a square of a given number.\n",
    "square_num =lambda x : x**2"
   ]
  },
  {
   "cell_type": "code",
   "execution_count": 28,
   "id": "d18dab9d-aab9-4dd7-acc5-f63f36b6901e",
   "metadata": {},
   "outputs": [
    {
     "data": {
      "text/plain": [
       "25"
      ]
     },
     "execution_count": 28,
     "metadata": {},
     "output_type": "execute_result"
    }
   ],
   "source": [
    "square_num(5)"
   ]
  },
  {
   "cell_type": "code",
   "execution_count": 29,
   "id": "615ba5e5-e55b-46b5-9cff-3dd5c62f4612",
   "metadata": {},
   "outputs": [],
   "source": [
    "#13. Write a code that uses a lambda function to check whether a given number is even or odd.\n",
    "check_num =lambda x : \"even\" if x%2==0 else \"odd\""
   ]
  },
  {
   "cell_type": "code",
   "execution_count": 30,
   "id": "308bf4e4-fc3c-4255-956c-5c0619663a60",
   "metadata": {},
   "outputs": [
    {
     "data": {
      "text/plain": [
       "'odd'"
      ]
     },
     "execution_count": 30,
     "metadata": {},
     "output_type": "execute_result"
    }
   ],
   "source": [
    "check_num(3)"
   ]
  },
  {
   "cell_type": "code",
   "execution_count": 31,
   "id": "440a0e03-6499-4c10-9814-b3e51cc60f69",
   "metadata": {},
   "outputs": [],
   "source": [
    "#15. Write a code that uses lambda function to concatenate two strings.\n",
    "join_str=lambda x,y: str(x+y)"
   ]
  },
  {
   "cell_type": "code",
   "execution_count": 32,
   "id": "514fc732-5d29-46d5-a81e-01b3af0e3cbe",
   "metadata": {},
   "outputs": [
    {
     "data": {
      "text/plain": [
       "'ankitanand'"
      ]
     },
     "execution_count": 32,
     "metadata": {},
     "output_type": "execute_result"
    }
   ],
   "source": [
    "join_str(\"ankit\",\"anand\")"
   ]
  },
  {
   "cell_type": "code",
   "execution_count": 33,
   "id": "fade8909-fea1-4156-80c7-c9e1777cfda4",
   "metadata": {},
   "outputs": [],
   "source": [
    "#16. Write a code that uses lambda function to find the maximum of given three numbers.\n",
    "max_of =lambda x,y,z : max(x,y,z)"
   ]
  },
  {
   "cell_type": "code",
   "execution_count": 34,
   "id": "036405f6-62b3-4f8e-8667-4226ec84d2fe",
   "metadata": {},
   "outputs": [
    {
     "data": {
      "text/plain": [
       "65"
      ]
     },
     "execution_count": 34,
     "metadata": {},
     "output_type": "execute_result"
    }
   ],
   "source": [
    "max_of(12,45,65)"
   ]
  },
  {
   "cell_type": "code",
   "execution_count": 35,
   "id": "57389da4-54df-4a01-867b-051cea547607",
   "metadata": {},
   "outputs": [],
   "source": [
    "#17. Write a code that generates the square of even numbers from the given list.\n",
    "def square(list1):\n",
    "    sq=[]\n",
    "    for i in list1:\n",
    "        if i%2==0:\n",
    "            sq.append(i**2)\n",
    "    return sq "
   ]
  },
  {
   "cell_type": "code",
   "execution_count": 36,
   "id": "cda2a40c-b70b-4e82-8113-a1583c645741",
   "metadata": {},
   "outputs": [
    {
     "data": {
      "text/plain": [
       "[4, 16, 3136, 6084, 64]"
      ]
     },
     "execution_count": 36,
     "metadata": {},
     "output_type": "execute_result"
    }
   ],
   "source": [
    "square([1,2,3,4,56,78,8,9])"
   ]
  },
  {
   "cell_type": "code",
   "execution_count": 37,
   "id": "12083d8c-603b-4940-8dc1-c57498e671f7",
   "metadata": {},
   "outputs": [
    {
     "name": "stdout",
     "output_type": "stream",
     "text": [
      "Product of positive numbers from the list: 72\n"
     ]
    }
   ],
   "source": [
    "#18. Write a code that calculates the product of positive numbers from a given list.\n",
    "def product_of_positives(numbers):\n",
    "    product = 1\n",
    "    for num in numbers:\n",
    "        if num > 0:\n",
    "            product *= num\n",
    "    return product\n",
    "\n",
    "# Example usage:\n",
    "numbers = [1, -2, 3, 4, -5, 6]\n",
    "result = product_of_positives(numbers)\n",
    "\n",
    "print(\"Product of positive numbers from the list:\", result)"
   ]
  },
  {
   "cell_type": "code",
   "execution_count": 38,
   "id": "2cce79fb-0e99-467c-b6da-842655d5e646",
   "metadata": {},
   "outputs": [],
   "source": [
    "#19. Write a code that doubles the value of odd numbers from the given list.\n",
    "def doubling(list2):\n",
    "    db=[]\n",
    "    for i in list2:\n",
    "        if i%2!=0:\n",
    "            db.append(i*2)\n",
    "    return db"
   ]
  },
  {
   "cell_type": "code",
   "execution_count": 39,
   "id": "b0544aa8-9340-4ab5-811f-22fc4ac25d4e",
   "metadata": {},
   "outputs": [
    {
     "data": {
      "text/plain": [
       "[2, 6, 10]"
      ]
     },
     "execution_count": 39,
     "metadata": {},
     "output_type": "execute_result"
    }
   ],
   "source": [
    "doubling([1,2,3,4,5,6])\n"
   ]
  },
  {
   "cell_type": "code",
   "execution_count": 40,
   "id": "b9e9a2a1-5cb4-4136-b844-2e2e86d1769f",
   "metadata": {},
   "outputs": [
    {
     "name": "stdout",
     "output_type": "stream",
     "text": [
      "Sum of cubes of numbers from the list: 225\n"
     ]
    }
   ],
   "source": [
    "#20. Write a code that calculates the sum of cubes of number from a given list.\n",
    "def sum_of_cubes(numbers):\n",
    "    return sum(num ** 3 for num in numbers)\n",
    "\n",
    "# Example usage:\n",
    "numbers = [1, 2, 3, 4, 5]\n",
    "result = sum_of_cubes(numbers)\n",
    "\n",
    "print(\"Sum of cubes of numbers from the list:\", result)"
   ]
  },
  {
   "cell_type": "code",
   "execution_count": 41,
   "id": "c59d5d32-3e1e-4316-bf3a-dfa7db51914b",
   "metadata": {},
   "outputs": [
    {
     "name": "stdout",
     "output_type": "stream",
     "text": [
      "Prime numbers from the list: [2, 3, 5, 7]\n"
     ]
    }
   ],
   "source": [
    "#21. Write a code that filters out prime number from the a given list.\n",
    "def is_prime(num):\n",
    "    if num < 2:\n",
    "        return False\n",
    "    for i in range(2, int(num**0.5) + 1):\n",
    "        if num % i == 0:\n",
    "            return False\n",
    "    return True\n",
    "\n",
    "def filter_primes(numbers):\n",
    "    return [num for num in numbers if is_prime(num)]\n",
    "\n",
    "# Example usage:\n",
    "numbers = [1, 2, 3, 4, 5, 6, 7, 8, 9, 10]\n",
    "prime_numbers = filter_primes(numbers)\n",
    "\n",
    "print(\"Prime numbers from the list:\", prime_numbers)  "
   ]
  },
  {
   "cell_type": "code",
   "execution_count": 43,
   "id": "77254f8c-488b-4888-bf7d-705e7976d8d0",
   "metadata": {},
   "outputs": [],
   "source": [
    "#22.  Writa a code that uses a lambda function to calculate the sum of two integers.\n",
    "add =lambda a,b : a+b"
   ]
  },
  {
   "cell_type": "code",
   "execution_count": 44,
   "id": "12054ce2-a263-40e1-a83b-cffe9dcf09fd",
   "metadata": {},
   "outputs": [
    {
     "data": {
      "text/plain": [
       "13"
      ]
     },
     "execution_count": 44,
     "metadata": {},
     "output_type": "execute_result"
    }
   ],
   "source": [
    "add(6,7)"
   ]
  },
  {
   "cell_type": "code",
   "execution_count": 45,
   "id": "52e3e647-30fc-41f2-a161-a61f2f4dbd1d",
   "metadata": {},
   "outputs": [],
   "source": [
    "#23. Write a code that uses a lambda function to claculate a square of a given number.\n",
    "square_num =lambda x : x**2"
   ]
  },
  {
   "cell_type": "code",
   "execution_count": 46,
   "id": "6d0178be-0404-4dd0-ae85-c23718081b75",
   "metadata": {},
   "outputs": [
    {
     "data": {
      "text/plain": [
       "144"
      ]
     },
     "execution_count": 46,
     "metadata": {},
     "output_type": "execute_result"
    }
   ],
   "source": [
    "square_num(12)"
   ]
  },
  {
   "cell_type": "code",
   "execution_count": 47,
   "id": "a9cdec69-a385-4cc8-b379-6cef4109e62f",
   "metadata": {},
   "outputs": [],
   "source": [
    "#24.  Write a code that uses a lambda function to check whether a given number is even or odd.\n",
    "check_num =lambda x : \"even\" if x%2==0 else \"odd\""
   ]
  },
  {
   "cell_type": "code",
   "execution_count": 48,
   "id": "d5f801d0-9282-4874-a375-e36a4cab9e04",
   "metadata": {},
   "outputs": [
    {
     "data": {
      "text/plain": [
       "'even'"
      ]
     },
     "execution_count": 48,
     "metadata": {},
     "output_type": "execute_result"
    }
   ],
   "source": [
    "check_num(66)"
   ]
  },
  {
   "cell_type": "code",
   "execution_count": 49,
   "id": "f9a69c37-1f2e-4660-bfbe-9736fcd82780",
   "metadata": {},
   "outputs": [],
   "source": [
    "#25.  Write a code that uses lambda function to concatenate two strings.\n",
    "join_str=lambda x,y: str(x+y)"
   ]
  },
  {
   "cell_type": "code",
   "execution_count": 50,
   "id": "c151f2d6-914a-48de-94a6-2043eed09357",
   "metadata": {},
   "outputs": [
    {
     "data": {
      "text/plain": [
       "'pwskills'"
      ]
     },
     "execution_count": 50,
     "metadata": {},
     "output_type": "execute_result"
    }
   ],
   "source": [
    "join_str(\"pw\",\"skills\")"
   ]
  },
  {
   "cell_type": "code",
   "execution_count": 51,
   "id": "784060d0-bd85-474f-b520-742178e856bb",
   "metadata": {},
   "outputs": [],
   "source": [
    "#26. Write a code that uses lambda function to find the maximum of given three numbers.\n",
    "max_of =lambda x,y,z : max(x,y,z)"
   ]
  },
  {
   "cell_type": "code",
   "execution_count": 52,
   "id": "a07d828c-1f86-4ed4-92b3-5d87e083a0c4",
   "metadata": {},
   "outputs": [
    {
     "data": {
      "text/plain": [
       "567"
      ]
     },
     "execution_count": 52,
     "metadata": {},
     "output_type": "execute_result"
    }
   ],
   "source": [
    "max_of(45,567,234)"
   ]
  },
  {
   "cell_type": "code",
   "execution_count": 53,
   "id": "efc842bb-fab9-4a8e-bca3-5a55262b6450",
   "metadata": {},
   "outputs": [],
   "source": [
    "#27. What is encapsulation in oop ?\n",
    "# Incpasulation means binding data and variables inside a class.\n",
    "# Incpasulation is hiding data.\n",
    "# There are three types of encapsulation : member , function , class."
   ]
  },
  {
   "cell_type": "code",
   "execution_count": 54,
   "id": "d2e91f8b-c8c6-4eb5-b233-a27af9558312",
   "metadata": {},
   "outputs": [],
   "source": [
    "#28. Explain the use of access modifier in python classes.\n",
    "# hiding something\n",
    "#it is a process where we decide how much we hide data and at what extent.\n",
    "#byundling of data and methods\n",
    "# there are three types of access modifier\n",
    "# private , public ,protected modifier.\n",
    "#Public: Accessible from anywhere\n",
    "#Private: Indicated by a double underscore (__), intended for internal use within the class only, with name mangling to discourage outside access.\n",
    "#Protected: Indicated by a single underscore (_), intended for internal use within the class and its subclasses, but can still be accessed from outside"
   ]
  },
  {
   "cell_type": "code",
   "execution_count": 55,
   "id": "86432c42-a612-4ff0-b377-2d53934ed0fc",
   "metadata": {},
   "outputs": [
    {
     "name": "stdout",
     "output_type": "stream",
     "text": [
      "Inheritance in Python is a powerful feature that allows a class (called a child or subclass) to inherit attributes and methods from another class (called a parent or superclass). This promotes code reuse and establishes a natural hierarchical relationship between classes\n"
     ]
    }
   ],
   "source": [
    "#29. What is inheritance in OOP ?\n",
    "print(\"Inheritance in Python is a powerful feature that allows a class (called a child or subclass) to inherit attributes and methods from another class (called a parent or superclass). This promotes code reuse and establishes a natural hierarchical relationship between classes\")"
   ]
  },
  {
   "cell_type": "code",
   "execution_count": 56,
   "id": "9cfa883c-88d8-46f8-985b-4288dcb832f2",
   "metadata": {},
   "outputs": [
    {
     "name": "stdout",
     "output_type": "stream",
     "text": [
      " poly means many and morphism means state \n",
      " Polymorphism is a core concept in object-oriented programming (OOP) that allows objects of different classes to be treated as objects of a common superclass. It enables a single interface to represent different underlying forms (data types). In Python, polymorphism can be demonstrated through method overriding and the use of common interfaces\n"
     ]
    }
   ],
   "source": [
    "#30. Define polymorphism in oops ?\n",
    "print(\" poly means many and morphism means state \\n Polymorphism is a core concept in object-oriented programming (OOP) that allows objects of different classes to be treated as objects of a common superclass. It enables a single interface to represent different underlying forms (data types). In Python, polymorphism can be demonstrated through method overriding and the use of common interfaces\")"
   ]
  },
  {
   "cell_type": "code",
   "execution_count": 57,
   "id": "3bb9a6a7-ffd6-4091-a6eb-4734fa659030",
   "metadata": {},
   "outputs": [
    {
     "name": "stdout",
     "output_type": "stream",
     "text": [
      "When a subclass provides a specific implementation of a method that is already defined in its superclass, it is known as method overriding. This allows a subclass to provide a specific behavior while maintaining a common interface.\n"
     ]
    }
   ],
   "source": [
    "#31. Explain method overiding in python.\n",
    "print(\"When a subclass provides a specific implementation of a method that is already defined in its superclass, it is known as method overriding. This allows a subclass to provide a specific behavior while maintaining a common interface.\")"
   ]
  },
  {
   "cell_type": "code",
   "execution_count": 58,
   "id": "ae0d8a51-3475-4b84-9c7c-ee3bade74c54",
   "metadata": {},
   "outputs": [],
   "source": [
    "#eg\n",
    "class Parent:\n",
    "    def hello(self):\n",
    "        print(\"i am not dominant\")\n",
    "class Child(Parent):\n",
    "    def hello(self):\n",
    "        print(\"I am dominant\")"
   ]
  },
  {
   "cell_type": "code",
   "execution_count": 59,
   "id": "ca6a49bc-3429-4521-9130-fba2be57f8fc",
   "metadata": {},
   "outputs": [],
   "source": [
    "c1=Parent()\n",
    "c1=Child()"
   ]
  },
  {
   "cell_type": "code",
   "execution_count": 60,
   "id": "cd241760-0a20-485f-af6d-3e3fe7a90abe",
   "metadata": {},
   "outputs": [
    {
     "name": "stdout",
     "output_type": "stream",
     "text": [
      "I am dominant\n"
     ]
    }
   ],
   "source": [
    "c1.hello()"
   ]
  },
  {
   "cell_type": "code",
   "execution_count": 61,
   "id": "c16db2fd-f34a-4f1c-ab20-f7113fccb4b8",
   "metadata": {},
   "outputs": [],
   "source": [
    "#32.Define a parent class Animal with a method make_sound that prints \"generic animal sound\". Create a child class Dog inheriting from Animal with a method make_sound that prints\"woof!\".\n",
    "class Animal:\n",
    "    def make_sound(self):\n",
    "        print(\"Generic animal sound\")\n",
    "class Dog(Animal):\n",
    "    def make_sound(self):\n",
    "        print(\"Woof!\")\n",
    "        "
   ]
  },
  {
   "cell_type": "code",
   "execution_count": 62,
   "id": "d5adc69e-8978-4100-8ac6-81f9596d3383",
   "metadata": {},
   "outputs": [],
   "source": [
    "a1=Animal()\n",
    "a2=Dog()"
   ]
  },
  {
   "cell_type": "code",
   "execution_count": 63,
   "id": "2ea53148-a0bc-4e98-993a-664ebb4b1c8c",
   "metadata": {},
   "outputs": [
    {
     "name": "stdout",
     "output_type": "stream",
     "text": [
      "Generic animal sound\n"
     ]
    }
   ],
   "source": [
    "a1.make_sound()"
   ]
  },
  {
   "cell_type": "code",
   "execution_count": 64,
   "id": "6d8efaf0-0525-42b3-bd0b-846c7bde9141",
   "metadata": {},
   "outputs": [
    {
     "name": "stdout",
     "output_type": "stream",
     "text": [
      "Woof!\n"
     ]
    }
   ],
   "source": [
    "a2.make_sound()"
   ]
  },
  {
   "cell_type": "code",
   "execution_count": 65,
   "id": "7178afd3-f4da-43c1-8acc-fc75c43b852a",
   "metadata": {},
   "outputs": [],
   "source": [
    "#33. Define a method move in the Animal class that prints\"Animal moves\". Override the move method i the Dog class to print\"Dog runs\".\n",
    "class Animal:\n",
    "    def move(self):\n",
    "        print(\"Animal moves\")\n",
    "class Dog(Animal):\n",
    "    def move(self):\n",
    "        print(\"Dog moves\")"
   ]
  },
  {
   "cell_type": "code",
   "execution_count": 66,
   "id": "a437aa0a-1fae-4342-a83d-80645410b310",
   "metadata": {},
   "outputs": [],
   "source": [
    "am1=Animal()\n",
    "am1=Dog()"
   ]
  },
  {
   "cell_type": "code",
   "execution_count": 67,
   "id": "2481e09a-7315-40c6-b3e7-c0302991ab1b",
   "metadata": {},
   "outputs": [
    {
     "name": "stdout",
     "output_type": "stream",
     "text": [
      "Dog moves\n"
     ]
    }
   ],
   "source": [
    "am1.move()"
   ]
  },
  {
   "cell_type": "code",
   "execution_count": 68,
   "id": "55029294-2bc5-4ba0-973d-21190e68bc31",
   "metadata": {},
   "outputs": [],
   "source": [
    "# here the child class ie Dog is more dominant called method overriding."
   ]
  },
  {
   "cell_type": "code",
   "execution_count": 69,
   "id": "548f4a38-78c4-44d2-a4cc-f5f8d2c48b4b",
   "metadata": {},
   "outputs": [],
   "source": [
    "#34. Create a class Mammal with a method reproduce that prints\"Giving birth to live young\".Create a class DogMammal inheriting from Dog and Mammal.\n",
    "class Mammal:\n",
    "    def Reproduce(self):\n",
    "        print(\"Giving birth to live young\")\n",
    "class Dog:\n",
    "    def giving_birth(self):\n",
    "        print(\"Giving birth to puppy\")\n",
    "class DogMammal(Mammal,Dog):\n",
    "    pass"
   ]
  },
  {
   "cell_type": "code",
   "execution_count": 70,
   "id": "eec87a51-88f4-44dc-aaaf-08d4f52d7476",
   "metadata": {},
   "outputs": [],
   "source": [
    "#34. Create a class Mammal with a method reproduce that prints\"Giving birth to live young\".Create a class DogMammal inheriting from Dog and Mammal.\n",
    "class Mammal:\n",
    "    def Reproduce(self):\n",
    "        print(\"Giving birth to live young\")\n",
    "class Dog:\n",
    "    def giving_birth(self):\n",
    "        print(\"Giving birth to puppy\")\n",
    "class DogMammal(Mammal,Dog):\n",
    "    pass"
   ]
  },
  {
   "cell_type": "code",
   "execution_count": 71,
   "id": "baff2b59-ad55-4ce9-815d-c223c01e954d",
   "metadata": {},
   "outputs": [],
   "source": [
    "dm=DogMammal()"
   ]
  },
  {
   "cell_type": "code",
   "execution_count": 72,
   "id": "ca76495c-86df-4f03-866b-9e5c25f91edf",
   "metadata": {},
   "outputs": [
    {
     "name": "stdout",
     "output_type": "stream",
     "text": [
      "Giving birth to puppy\n"
     ]
    }
   ],
   "source": [
    "dm.giving_birth()"
   ]
  },
  {
   "cell_type": "code",
   "execution_count": 73,
   "id": "c59841e2-8f38-432c-985a-5777c64c3378",
   "metadata": {},
   "outputs": [
    {
     "name": "stdout",
     "output_type": "stream",
     "text": [
      "Giving birth to live young\n"
     ]
    }
   ],
   "source": [
    "dm.Reproduce()"
   ]
  },
  {
   "cell_type": "code",
   "execution_count": 74,
   "id": "cd039062-922c-4bf0-a68c-70d9838c9236",
   "metadata": {},
   "outputs": [],
   "source": [
    "# Here DogMammal inherit both Mammal and Dog."
   ]
  },
  {
   "cell_type": "code",
   "execution_count": 75,
   "id": "e2edefc2-0cbe-4afa-9008-da034777a9c7",
   "metadata": {},
   "outputs": [],
   "source": [
    "#35. create a class GermanShepherd inheriting from Dog and override the make_sound method to print  \"Bark!\".\n",
    "class Dog:\n",
    "    def make_sound(self):\n",
    "        print(\"Woof!\")\n",
    "class GermanShepherd(Dog):\n",
    "    def make_sound(self):\n",
    "        print(\"Bark!\")"
   ]
  },
  {
   "cell_type": "code",
   "execution_count": 76,
   "id": "3bebb8e3-0c07-4d3a-b283-0f863d0aaca4",
   "metadata": {},
   "outputs": [],
   "source": [
    "s1=Dog()\n",
    "s1=GermanShepherd()"
   ]
  },
  {
   "cell_type": "code",
   "execution_count": 77,
   "id": "b185baeb-c0c9-4a95-9245-85cc7cac0f9d",
   "metadata": {},
   "outputs": [
    {
     "name": "stdout",
     "output_type": "stream",
     "text": [
      "Bark!\n"
     ]
    }
   ],
   "source": [
    "s1.make_sound()"
   ]
  },
  {
   "cell_type": "code",
   "execution_count": 78,
   "id": "cadb7bb6-a9c6-466f-9fec-41f8882ada96",
   "metadata": {},
   "outputs": [],
   "source": [
    "#36. Define constructors in both the Animal and Dog classes with different initialization parameters.\n",
    "class Animal:\n",
    "    def __init__(self,name,species):\n",
    "        self.name=name\n",
    "        self.species=species\n",
    "class Dog:\n",
    "    def __init__(self,breed,colour):\n",
    "        self.breed=breed\n",
    "        self.colour=colour"
   ]
  },
  {
   "cell_type": "code",
   "execution_count": 79,
   "id": "3f2ef112-c29f-4d20-a561-fbd641d88d91",
   "metadata": {},
   "outputs": [],
   "source": [
    "c1=Animal(\"cat\",\"lion\")"
   ]
  },
  {
   "cell_type": "code",
   "execution_count": 80,
   "id": "b17bb65e-3cbd-421c-8865-be1e4b2f601a",
   "metadata": {},
   "outputs": [
    {
     "data": {
      "text/plain": [
       "'cat'"
      ]
     },
     "execution_count": 80,
     "metadata": {},
     "output_type": "execute_result"
    }
   ],
   "source": [
    "c1.name"
   ]
  },
  {
   "cell_type": "code",
   "execution_count": 81,
   "id": "71d7ab83-de2a-4eb8-8fbf-56a2379d09d5",
   "metadata": {},
   "outputs": [],
   "source": [
    "c2=Dog(\"GermanShepherd\",\"black\")"
   ]
  },
  {
   "cell_type": "code",
   "execution_count": 82,
   "id": "5c414b89-7a81-4b8f-8bfc-cabb63aec6ae",
   "metadata": {},
   "outputs": [
    {
     "data": {
      "text/plain": [
       "'black'"
      ]
     },
     "execution_count": 82,
     "metadata": {},
     "output_type": "execute_result"
    }
   ],
   "source": [
    "c2.colour"
   ]
  },
  {
   "cell_type": "code",
   "execution_count": 83,
   "id": "8355e681-56c2-4433-be6d-92908013c0b3",
   "metadata": {},
   "outputs": [],
   "source": [
    "#37.What is abstraction in phython? How is it implemented ?\n",
    "#Abstraction concept of hiding complex implimentation details of an object.\n",
    "import abc\n",
    "class pwskills:\n",
    "    @abc.abstractmethod\n",
    "    def student_detail(self):\n",
    "        pass\n",
    "    @abc.abstractmethod\n",
    "    def student_assignment(self):\n",
    "        pass\n",
    "    @abc.abstractmethod\n",
    "    def student_class(self):\n",
    "        pass\n",
    "class datascience(pwskills):\n",
    "    def student_details(self):\n",
    "        print(\"data science course\")\n",
    "    def student_marks(self):\n",
    "        print(\"master course\")"
   ]
  },
  {
   "cell_type": "code",
   "execution_count": 84,
   "id": "364ff05e-f31d-4cb9-ba0f-5d2422c3c30d",
   "metadata": {},
   "outputs": [],
   "source": [
    "ds=datascience()"
   ]
  },
  {
   "cell_type": "code",
   "execution_count": 85,
   "id": "2b95e7a0-c3c5-4ef8-8b89-08edf12fcd1a",
   "metadata": {},
   "outputs": [
    {
     "name": "stdout",
     "output_type": "stream",
     "text": [
      "data science course\n"
     ]
    }
   ],
   "source": [
    "ds.student_details()"
   ]
  },
  {
   "cell_type": "code",
   "execution_count": 86,
   "id": "c24d059d-0c27-453f-b083-1786d601330d",
   "metadata": {},
   "outputs": [
    {
     "name": "stdout",
     "output_type": "stream",
     "text": [
      "Abstraction helps manage complexity by allowing programmers to focus on high-level concepts and ignore the intricate details of the implementation. This makes the code easier to understand and maintain.\n",
      "Abstraction leads to a separation of concerns, where different parts of a program are divided into distinct sections.\n",
      "Abstraction naturally promotes encapsulation by hiding the internal state and requiring all interactions to be performed through well-defined interfaces.Abstraction naturally promotes encapsulation by hiding the internal state and requiring all interactions to be performed through well-defined interfaces.\n",
      "Abstraction naturally promotes encapsulation by hiding the internal state and requiring all interactions to be performed through well-defined interfaces.\n"
     ]
    }
   ],
   "source": [
    "#38. Explain the importance of abstraction in object oriented programming.\n",
    "print(\"Abstraction helps manage complexity by allowing programmers to focus on high-level concepts and ignore the intricate details of the implementation. This makes the code easier to understand and maintain.\\nAbstraction leads to a separation of concerns, where different parts of a program are divided into distinct sections.\\nAbstraction naturally promotes encapsulation by hiding the internal state and requiring all interactions to be performed through well-defined interfaces.Abstraction naturally promotes encapsulation by hiding the internal state and requiring all interactions to be performed through well-defined interfaces.\\nAbstraction naturally promotes encapsulation by hiding the internal state and requiring all interactions to be performed through well-defined interfaces.\")"
   ]
  },
  {
   "cell_type": "code",
   "execution_count": 87,
   "id": "bf9ac1be-3f27-4a1d-abbd-2c288a59331c",
   "metadata": {},
   "outputs": [
    {
     "data": {
      "text/plain": [
       "'Abstract Methods: Defined using the @abstractmethod decorator in an abstract class, contain no implementation, and must be overridden in subclasses.\\nRegular Methods: Defined with an implementation, can be used directly by instances of the class, and may be overridden in subclasses to provide specific behavior.'"
      ]
     },
     "execution_count": 87,
     "metadata": {},
     "output_type": "execute_result"
    }
   ],
   "source": [
    "#39.How is abstract method different different from regular methods in phython.\n",
    "\"\"\"Abstract Methods: Defined using the @abstractmethod decorator in an abstract class, contain no implementation, and must be overridden in subclasses.\n",
    "Regular Methods: Defined with an implementation, can be used directly by instances of the class, and may be overridden in subclasses to provide specific behavior.\"\"\""
   ]
  },
  {
   "cell_type": "code",
   "execution_count": 88,
   "id": "eb5fcbe3-b9b4-49a4-8836-3c2568b29a46",
   "metadata": {},
   "outputs": [],
   "source": [
    "#40. How can you achieve abstraction using interfaces in python.\n",
    "class circle:\n",
    "    def __init__(self,radius):\n",
    "        self.__radius=radius\n",
    "    @property\n",
    "    def radius(self):\n",
    "        return self.__radius\n",
    "    @radius.setter\n",
    "    def radius_set(self,newradius):\n",
    "        self.radius=newradius\n",
    "    def area(self):\n",
    "        return 3.14 * self.radius * self.radius"
   ]
  },
  {
   "cell_type": "code",
   "execution_count": 89,
   "id": "2dc1e7b1-6322-42dc-aee4-812b58b892f9",
   "metadata": {},
   "outputs": [],
   "source": [
    "c=circle(6)"
   ]
  },
  {
   "cell_type": "code",
   "execution_count": 90,
   "id": "3f4bbd94-8591-41ea-9d8e-ab91fe1e3b1a",
   "metadata": {},
   "outputs": [
    {
     "data": {
      "text/plain": [
       "6"
      ]
     },
     "execution_count": 90,
     "metadata": {},
     "output_type": "execute_result"
    }
   ],
   "source": [
    "c.radius"
   ]
  },
  {
   "cell_type": "code",
   "execution_count": 91,
   "id": "dc59b5ad-e6e1-4600-a101-149689daf3f7",
   "metadata": {},
   "outputs": [
    {
     "data": {
      "text/plain": [
       "113.03999999999999"
      ]
     },
     "execution_count": 91,
     "metadata": {},
     "output_type": "execute_result"
    }
   ],
   "source": [
    "c.area()"
   ]
  },
  {
   "cell_type": "code",
   "execution_count": 92,
   "id": "1994e25f-e065-407d-9b97-05135f988124",
   "metadata": {},
   "outputs": [],
   "source": [
    "#41. Can you provide an example how abstraction can be utilised to create a common interface of group of releated class in python.\n",
    "import abc\n",
    "class payment_method():\n",
    "    @abc.abstractmethod\n",
    "    def authorize(self,ammount):\n",
    "        pass\n",
    "    @abc.abstractmethod\n",
    "    def capture(self,ammount):\n",
    "        pass\n",
    "    @abc.abstractmethod\n",
    "    def refund(self,ammount):\n",
    "        pass"
   ]
  },
  {
   "cell_type": "code",
   "execution_count": 93,
   "id": "cd71f248-29f8-4404-9755-8f92a09a3e17",
   "metadata": {},
   "outputs": [],
   "source": [
    "class CreditCardpayment(payment_method):\n",
    "    def authorize(self, amount):\n",
    "        print(f\"Authorizing credit card payment of {amount}\")\n",
    "        # Implementation for authorizing credit card payment\n",
    "\n",
    "    def capture(self, amount):\n",
    "        print(f\"Capturing credit card payment of {amount}\")\n",
    "        # Implementation for capturing credit card payment\n",
    "\n",
    "    def refund(self, amount):\n",
    "        print(f\"Refunding credit card payment of {amount}\")\n",
    "        # Implementation for refunding credit card payment"
   ]
  },
  {
   "cell_type": "code",
   "execution_count": 94,
   "id": "d835cb46-6b2c-4381-aeab-2ba399136d93",
   "metadata": {},
   "outputs": [],
   "source": [
    "payment=CreditCardpayment()"
   ]
  },
  {
   "cell_type": "code",
   "execution_count": 95,
   "id": "e6c4c989-48d8-4a5e-ac2b-ad85dbd78cd9",
   "metadata": {},
   "outputs": [
    {
     "name": "stdout",
     "output_type": "stream",
     "text": [
      "Capturing credit card payment of 1000\n"
     ]
    }
   ],
   "source": [
    "payment.capture(1000)"
   ]
  },
  {
   "cell_type": "code",
   "execution_count": 96,
   "id": "e1a5bc19-a8f5-44bf-9cef-a4c4eeeb41a5",
   "metadata": {},
   "outputs": [
    {
     "name": "stdout",
     "output_type": "stream",
     "text": [
      "Capturing credit card payment of 1000\n"
     ]
    }
   ],
   "source": [
    "payment.capture(1000)"
   ]
  },
  {
   "cell_type": "code",
   "execution_count": 97,
   "id": "67553d93-2901-483b-84dd-1e18cc808e30",
   "metadata": {},
   "outputs": [
    {
     "data": {
      "text/plain": [
       "'Define a Superclass:The superclass defines a method that will be overridden by subclasses.\\nCreate Subclasses:Each subclass inherits from the superclass and overrides the method defined in the superclass.\\nUse Polymorphism:\\nA function or method can take an object of the superclass type, and at runtime, the overridden method in the subclass will be called.'"
      ]
     },
     "execution_count": 97,
     "metadata": {},
     "output_type": "execute_result"
    }
   ],
   "source": [
    "#42.How does Python achieve polymorphism through method overriding ?\n",
    "\"\"\"Define a Superclass:The superclass defines a method that will be overridden by subclasses.\n",
    "Create Subclasses:Each subclass inherits from the superclass and overrides the method defined in the superclass.\n",
    "Use Polymorphism:\n",
    "A function or method can take an object of the superclass type, and at runtime, the overridden method in the subclass will be called.\"\"\""
   ]
  },
  {
   "cell_type": "code",
   "execution_count": 98,
   "id": "f4b93d63-dcfb-4009-a827-e828247538f4",
   "metadata": {},
   "outputs": [],
   "source": [
    "#example\n",
    "class papa:\n",
    "    def salary(self):\n",
    "        print(\"Rs 1,20,000 is credited to your account\")\n",
    "class baccha(papa):\n",
    "    def salary(self):\n",
    "        print(\"Rs 80,000 is credited to your account\")"
   ]
  },
  {
   "cell_type": "code",
   "execution_count": 99,
   "id": "9d779fc3-1f5f-4844-96bd-f227ddc65204",
   "metadata": {},
   "outputs": [],
   "source": [
    "salary_slip=baccha()"
   ]
  },
  {
   "cell_type": "code",
   "execution_count": 100,
   "id": "ca6ae248-cae8-4b3e-b489-82fd1994a46d",
   "metadata": {},
   "outputs": [
    {
     "name": "stdout",
     "output_type": "stream",
     "text": [
      "Rs 80,000 is credited to your account\n"
     ]
    }
   ],
   "source": [
    "salary_slip.salary()"
   ]
  },
  {
   "cell_type": "code",
   "execution_count": 101,
   "id": "4592c22b-251b-4fce-86b5-94b1b0665820",
   "metadata": {},
   "outputs": [],
   "source": [
    "#43. Define a base class with a method and a subclass that overrides the method.\n",
    "class Senior_player:  # This is base class.\n",
    "    def status(self):\n",
    "        print(\"player playing retired soon\")\n",
    "class Junior_player:   # This is subclass\n",
    "    def status(self):\n",
    "        print(\"are playing and senior of tommorow\") "
   ]
  },
  {
   "cell_type": "code",
   "execution_count": 102,
   "id": "960dec91-6b38-43e6-8f5c-d340d1920c9a",
   "metadata": {},
   "outputs": [],
   "source": [
    "status_today=Junior_player()"
   ]
  },
  {
   "cell_type": "code",
   "execution_count": 103,
   "id": "0fb609c7-922e-4169-8b47-374010ab6643",
   "metadata": {},
   "outputs": [
    {
     "name": "stdout",
     "output_type": "stream",
     "text": [
      "are playing and senior of tommorow\n"
     ]
    }
   ],
   "source": [
    "status_today.status()"
   ]
  },
  {
   "cell_type": "code",
   "execution_count": 104,
   "id": "a8382383-1ee4-4cd7-932c-bd3e6da56d6e",
   "metadata": {},
   "outputs": [],
   "source": [
    "#Here subclass overrides the baseclass"
   ]
  },
  {
   "cell_type": "code",
   "execution_count": 105,
   "id": "0250f646-dc06-458a-9e7d-113ed6cb1e5c",
   "metadata": {},
   "outputs": [],
   "source": [
    "#44.Define a baseclass and muntiple subclasses with overridden methods.\n",
    "class Animal: # Base class\n",
    "    def sound(self):\n",
    "        print(\"animal sound\")\n",
    "class Cat(Animal): #first sub class\n",
    "    def sound(self):\n",
    "        print(\"meow\")\n",
    "class Dog(Animal):  # Second subclass\n",
    "    def sound(self):\n",
    "        print(\"bark\")      "
   ]
  },
  {
   "cell_type": "code",
   "execution_count": 106,
   "id": "b4c2fe8e-e9bc-4a0a-aaaf-441484c158ad",
   "metadata": {},
   "outputs": [],
   "source": [
    "animal_info=Cat()"
   ]
  },
  {
   "cell_type": "code",
   "execution_count": 107,
   "id": "e8dec15b-bb4a-44db-a1e5-db00ead18b35",
   "metadata": {},
   "outputs": [
    {
     "name": "stdout",
     "output_type": "stream",
     "text": [
      "meow\n"
     ]
    }
   ],
   "source": [
    "animal_info.sound()"
   ]
  },
  {
   "cell_type": "code",
   "execution_count": 108,
   "id": "bb315075-f37a-48da-ab1a-c9bed40f2135",
   "metadata": {},
   "outputs": [],
   "source": [
    "animal_infos=Dog()"
   ]
  },
  {
   "cell_type": "code",
   "execution_count": 109,
   "id": "c6c3cf99-dac7-4ed4-a995-33d6be6a656d",
   "metadata": {},
   "outputs": [
    {
     "name": "stdout",
     "output_type": "stream",
     "text": [
      "bark\n"
     ]
    }
   ],
   "source": [
    "animal_infos.sound()"
   ]
  },
  {
   "cell_type": "code",
   "execution_count": 110,
   "id": "4499d726-c9b8-4198-8b7b-473d7f172180",
   "metadata": {},
   "outputs": [],
   "source": [
    "# Here both subclasses overrides the base class."
   ]
  },
  {
   "cell_type": "code",
   "execution_count": 111,
   "id": "1d84b85e-0ded-4898-af54-9c443bd8ee27",
   "metadata": {},
   "outputs": [],
   "source": [
    "#45. How does polymorphism improve code readibility and reusebility.\n",
    "# The same interface can be used to perform different functionalities, reducing code duplication.\n",
    "#Polymorphism allows different classes to be treated through a common interface. This makes the code easier to understand because you can work with a common set of methods regardless of the specific object type.\n",
    "class Animal: # Base class\n",
    "    def sound(self):\n",
    "        print(\"animal sound\")\n",
    "class Cat(Animal): #first sub class\n",
    "    def sound(self):\n",
    "        print(\"meow\")\n",
    "class Dog(Animal):  # Second subclass\n",
    "    def sound(self):\n",
    "        print(\"bark\")      "
   ]
  },
  {
   "cell_type": "code",
   "execution_count": 112,
   "id": "363eac1d-3ee2-4566-85c9-05d1827a80e6",
   "metadata": {},
   "outputs": [],
   "source": [
    "s1=Dog() # once we define the object we dont have to write code again and again"
   ]
  },
  {
   "cell_type": "code",
   "execution_count": 113,
   "id": "b53574df-fb65-486f-9754-b9de39562104",
   "metadata": {},
   "outputs": [
    {
     "name": "stdout",
     "output_type": "stream",
     "text": [
      "bark\n"
     ]
    }
   ],
   "source": [
    "s1.sound()"
   ]
  },
  {
   "cell_type": "code",
   "execution_count": 114,
   "id": "df65ed33-ebd8-44a9-85cd-55ea0a4bda64",
   "metadata": {},
   "outputs": [
    {
     "data": {
      "text/plain": [
       "'Duck typing allows different classes to be used interchangeably if they implement the required methods. This form of polymorphism is highly flexible and can be more intuitive than traditional type-based polymorphism found in other languages.'"
      ]
     },
     "execution_count": 114,
     "metadata": {},
     "output_type": "execute_result"
    }
   ],
   "source": [
    "#46.Describe how python supports polymorphism with duck typing.\n",
    "\"\"\"Duck typing allows different classes to be used interchangeably if they implement the required methods. This form of polymorphism is highly flexible and can be more intuitive than traditional type-based polymorphism found in other languages.\"\"\""
   ]
  },
  {
   "cell_type": "code",
   "execution_count": 115,
   "id": "04a9761f-ac0c-4bd7-8eca-53afdcf79cde",
   "metadata": {},
   "outputs": [],
   "source": [
    "#example:\n",
    "class Rohit:\n",
    "    def batting_position(self):\n",
    "        print(\"I am an opening batsman\")\n",
    "class Virat:\n",
    "    def batting_position(self):\n",
    "        print(\"I am greatest one down batsman\")\n",
    "class Dhoni:\n",
    "    def batting_position(self):\n",
    "        print(\" I am the greatest finisher in the world\")"
   ]
  },
  {
   "cell_type": "code",
   "execution_count": 116,
   "id": "2d92f4b5-996d-4229-8a11-d318f0e9716e",
   "metadata": {},
   "outputs": [],
   "source": [
    "def batsman_role(role):\n",
    "    print(\"all are good batsman\")"
   ]
  },
  {
   "cell_type": "code",
   "execution_count": 117,
   "id": "01670d35-0e9d-4404-a75a-0b0129d72250",
   "metadata": {},
   "outputs": [],
   "source": [
    "sharma=Rohit()"
   ]
  },
  {
   "cell_type": "code",
   "execution_count": 118,
   "id": "d02ccdfe-2e33-4561-ba5e-fcd47a16947e",
   "metadata": {},
   "outputs": [],
   "source": [
    "kohli=Virat()"
   ]
  },
  {
   "cell_type": "code",
   "execution_count": 119,
   "id": "91703ee3-612d-4629-bcb7-9e0fbd76e077",
   "metadata": {},
   "outputs": [],
   "source": [
    "mahi=Dhoni()"
   ]
  },
  {
   "cell_type": "code",
   "execution_count": 120,
   "id": "72d9e8b4-8688-4b08-9c62-cc6039793020",
   "metadata": {},
   "outputs": [],
   "source": [
    "roles=[sharma,kohli,mahi]"
   ]
  },
  {
   "cell_type": "code",
   "execution_count": 121,
   "id": "7b67f0b4-4dab-4b8b-a404-862240d8ce21",
   "metadata": {},
   "outputs": [
    {
     "name": "stdout",
     "output_type": "stream",
     "text": [
      "all are good batsman\n",
      "all are good batsman\n",
      "all are good batsman\n"
     ]
    }
   ],
   "source": [
    "for role in roles:\n",
    "    batsman_role(role)"
   ]
  },
  {
   "cell_type": "code",
   "execution_count": 122,
   "id": "57970d4f-9de8-478a-9176-bdb911ada42d",
   "metadata": {},
   "outputs": [],
   "source": [
    "# 47. How to achieve encapsulation in python.\n",
    "#In Python, encapsulation is achieved through the use of access modifiers that control the visibility and accessibility of class attributes and methods\n",
    "#example protected encapsulation\n",
    "class Ankit:\n",
    "    def __init__(self,name,age):\n",
    "        self.name=name\n",
    "        self.__age=age # this is protected and not been accessed\n",
    "        "
   ]
  },
  {
   "cell_type": "code",
   "execution_count": 124,
   "id": "36ffd440-569c-47b0-b378-dbe56ac2b726",
   "metadata": {},
   "outputs": [],
   "source": [
    "obj1=Ankit(\"ankit\",\"28\")"
   ]
  },
  {
   "cell_type": "code",
   "execution_count": 125,
   "id": "04b9bf27-d83e-4be2-9a78-cf30b89bb9db",
   "metadata": {},
   "outputs": [
    {
     "data": {
      "text/plain": [
       "'ankit'"
      ]
     },
     "execution_count": 125,
     "metadata": {},
     "output_type": "execute_result"
    }
   ],
   "source": [
    "obj1.name # here we cant access age"
   ]
  },
  {
   "cell_type": "code",
   "execution_count": 126,
   "id": "b30259fa-1964-4813-9517-a1fea8b33652",
   "metadata": {},
   "outputs": [],
   "source": [
    "#48. Can encapsulation be bypassed in python ? If so ,how ?\n",
    "# yes , encapsulation can be bypassed.\n",
    "class Intro:\n",
    "    def __init__(self,name,age):\n",
    "        self.name=name\n",
    "        self.__age=age\n",
    "    def get_age(self):\n",
    "        return self.__age"
   ]
  },
  {
   "cell_type": "code",
   "execution_count": 127,
   "id": "8d7f27f0-e1bb-44ff-a48e-547efbdff2c7",
   "metadata": {},
   "outputs": [
    {
     "data": {
      "text/plain": [
       "'24'"
      ]
     },
     "execution_count": 127,
     "metadata": {},
     "output_type": "execute_result"
    }
   ],
   "source": [
    "o1=Intro(\"ankit\",\"24\")\n",
    "o1.get_age() # here protected function is bypassed"
   ]
  },
  {
   "cell_type": "code",
   "execution_count": 128,
   "id": "3ecc1249-2d8d-4a81-b4e0-37963929d439",
   "metadata": {},
   "outputs": [
    {
     "data": {
      "text/plain": [
       "'24'"
      ]
     },
     "execution_count": 128,
     "metadata": {},
     "output_type": "execute_result"
    }
   ],
   "source": [
    "o1=Intro(\"ankit\",\"24\")\n",
    "o1.get_age() # here protected function is bypassed"
   ]
  },
  {
   "cell_type": "code",
   "execution_count": 129,
   "id": "15132624-b2fe-4744-8c7e-59c5e3b105f5",
   "metadata": {},
   "outputs": [
    {
     "name": "stdout",
     "output_type": "stream",
     "text": [
      "Initial balance: 100\n",
      "Deposited 50. New balance is 150.\n",
      "Balance after deposit: 150\n",
      "Withdrew 30. New balance is 120.\n",
      "Balance after withdrawal: 120\n",
      "Insufficient funds.\n"
     ]
    }
   ],
   "source": [
    "#49. Implement a class BankAccount with a private balance attribute. Include a method to deposit,withdraw and check the balance.\n",
    "class BankAccount:\n",
    "    def __init__(self, initial_balance=0):\n",
    "        self.__balance = initial_balance  # Private attribute\n",
    "\n",
    "    def deposit(self, amount):\n",
    "        if amount > 0:\n",
    "            self.__balance += amount\n",
    "            print(f\"Deposited {amount}. New balance is {self.__balance}.\")\n",
    "        else:\n",
    "            print(\"Deposit amount must be positive.\")\n",
    "\n",
    "    def withdraw(self, amount):\n",
    "        if amount > 0:\n",
    "            if amount <= self.__balance:\n",
    "                self.__balance -= amount\n",
    "                print(f\"Withdrew {amount}. New balance is {self.__balance}.\")\n",
    "            else:\n",
    "                print(\"Insufficient funds.\")\n",
    "        else:\n",
    "            print(\"Withdrawal amount must be positive.\")\n",
    "\n",
    "    def get_balance(self):\n",
    "        return self.__balance\n",
    "\n",
    "# Example usage\n",
    "account = BankAccount(100)  # Creating an account with an initial balance of 100\n",
    "print(f\"Initial balance: {account.get_balance()}\")\n",
    "\n",
    "account.deposit(50)\n",
    "print(f\"Balance after deposit: {account.get_balance()}\")\n",
    "\n",
    "account.withdraw(30)\n",
    "print(f\"Balance after withdrawal: {account.get_balance()}\")\n",
    "\n",
    "account.withdraw(150)  # Attempt to withdraw more than the available balance"
   ]
  },
  {
   "cell_type": "code",
   "execution_count": 130,
   "id": "87ecbb37-ef95-4cb1-afb7-f37bfe305f11",
   "metadata": {},
   "outputs": [
    {
     "name": "stdout",
     "output_type": "stream",
     "text": [
      "Initial email: john.doe@example.com\n",
      "Updated email: john.new@example.com\n",
      "Name: John Doe\n"
     ]
    }
   ],
   "source": [
    "#50. Develop a person class with private attributes name and email and method to set and get the email.\n",
    "class Person:\n",
    "    def __init__(self, name, email):\n",
    "        self.__name = name   # Private attribute for name\n",
    "        self.__email = email  # Private attribute for email\n",
    "\n",
    "    # Method to set the email\n",
    "    def set_email(self, email):\n",
    "        self.__email = email\n",
    "\n",
    "    # Method to get the email\n",
    "    def get_email(self):\n",
    "        return self.__email\n",
    "\n",
    "    # Method to get the name (if needed)\n",
    "    def get_name(self):\n",
    "        return self.__name\n",
    "\n",
    "# Example usage\n",
    "person = Person(\"John Doe\", \"john.doe@example.com\")\n",
    "print(f\"Initial email: {person.get_email()}\")\n",
    "\n",
    "# Setting a new email\n",
    "person.set_email(\"john.new@example.com\")\n",
    "print(f\"Updated email: {person.get_email()}\")\n",
    "\n",
    "# Accessing the name (optional)\n",
    "print(f\"Name: {person.get_name()}\")"
   ]
  },
  {
   "cell_type": "code",
   "execution_count": 131,
   "id": "25656093-36ac-4342-b962-372a638315ba",
   "metadata": {},
   "outputs": [
    {
     "data": {
      "text/plain": [
       "'Encapsulation is a cornerstone of object-oriented programming because it enables data protection, implementation hiding, improved maintainability, enhanced flexibility, modular code structure, and enforcement of contracts. By encapsulating data and behavior within objects, developers can build more robust, maintainable, and flexible software systems.'"
      ]
     },
     "execution_count": 131,
     "metadata": {},
     "output_type": "execute_result"
    }
   ],
   "source": [
    "#51. Why is encapsulation considered considered a pillar of object -oriented programming(oop) ?\n",
    "\"\"\"Encapsulation is a cornerstone of object-oriented programming because it enables data protection, implementation hiding, improved maintainability, enhanced flexibility, modular code structure, and enforcement of contracts. By encapsulating data and behavior within objects, developers can build more robust, maintainable, and flexible software systems.\"\"\""
   ]
  },
  {
   "cell_type": "code",
   "execution_count": 132,
   "id": "7353b4a7-69ff-496f-94d9-53c8b84c526c",
   "metadata": {},
   "outputs": [],
   "source": [
    "#52. Create a decorator in python that adds functionality to a simple function by printing a message before and after the function execution.\n",
    "def my_decorator_function():\n",
    "    print(\"the lines are printed\")\n",
    "    print(1+2)\n",
    "    print(\"lines are not printed\")"
   ]
  },
  {
   "cell_type": "code",
   "execution_count": 134,
   "id": "e1f66e19-1b36-497d-b997-4ef33e4e08b5",
   "metadata": {},
   "outputs": [
    {
     "name": "stdout",
     "output_type": "stream",
     "text": [
      "the lines are printed\n",
      "3\n",
      "lines are not printed\n"
     ]
    }
   ],
   "source": [
    "my_decorator_function()"
   ]
  },
  {
   "cell_type": "code",
   "execution_count": 135,
   "id": "b8213522-1914-44a7-b84a-5eb42f9d207b",
   "metadata": {},
   "outputs": [],
   "source": [
    "def my_decorator(func):\n",
    "    def wrapper():\n",
    "        print(\"the lines are printed\")\n",
    "        func()\n",
    "        print(\"lines are not printed\")\n",
    "    return wrapper"
   ]
  },
  {
   "cell_type": "code",
   "execution_count": 137,
   "id": "f5a3d6a4-b555-4197-b903-7f6d391ce1e5",
   "metadata": {},
   "outputs": [],
   "source": [
    "@my_decorator\n",
    "def say_hello():\n",
    "    print(\"hello\")"
   ]
  },
  {
   "cell_type": "code",
   "execution_count": 138,
   "id": "01d35982-b4ab-4221-ab67-0ec301eb12be",
   "metadata": {},
   "outputs": [
    {
     "name": "stdout",
     "output_type": "stream",
     "text": [
      "the lines are printed\n",
      "hello\n",
      "lines are not printed\n"
     ]
    }
   ],
   "source": [
    "say_hello()"
   ]
  },
  {
   "cell_type": "code",
   "execution_count": 139,
   "id": "5c9fb1a5-c07d-403b-a5f3-09f364faaa4c",
   "metadata": {},
   "outputs": [
    {
     "name": "stdout",
     "output_type": "stream",
     "text": [
      "Function 'example_function': This is a custom message\n",
      "Result: 7\n"
     ]
    }
   ],
   "source": [
    "#53. Modify the decorator to accept arguments and print the function name along the message.\n",
    "def custom_decorator_with_args(message):\n",
    "    def decorator(func):\n",
    "        def wrapper(*args, **kwargs):\n",
    "            # Print the function name and the custom message\n",
    "            print(f\"Function '{func.__name__}': {message}\")\n",
    "            # Call the original function and return its result\n",
    "            result = func(*args, **kwargs)\n",
    "            return result\n",
    "        return wrapper\n",
    "    return decorator\n",
    "\n",
    "# Example usage of the decorator with arguments\n",
    "@custom_decorator_with_args(\"This is a custom message\")\n",
    "def example_function(a, b):\n",
    "    return a + b\n",
    "\n",
    "# Calling the decorated function\n",
    "result = example_function(3, 4)\n",
    "print(f\"Result: {result}\")"
   ]
  },
  {
   "cell_type": "code",
   "execution_count": 140,
   "id": "e1d52821-0add-4b92-97bf-a03dd3d5cbe6",
   "metadata": {},
   "outputs": [
    {
     "name": "stdout",
     "output_type": "stream",
     "text": [
      "Decorator 1: Before function execution\n",
      "Decorator 2: Before function execution\n",
      "Inside the example function\n",
      "Decorator 2: After function execution\n",
      "Decorator 1: After function execution\n",
      "Result: 7\n"
     ]
    }
   ],
   "source": [
    "#54. Create two decorators , and apply thenm to single function. Ensure that they execute in order they are applied.\n",
    "# First decorator\n",
    "def decorator1(func):\n",
    "    def wrapper(*args, **kwargs):\n",
    "        print(\"Decorator 1: Before function execution\")\n",
    "        result = func(*args, **kwargs)\n",
    "        print(\"Decorator 1: After function execution\")\n",
    "        return result\n",
    "    return wrapper\n",
    "\n",
    "# Second decorator\n",
    "def decorator2(func):\n",
    "    def wrapper(*args, **kwargs):\n",
    "        print(\"Decorator 2: Before function execution\")\n",
    "        result = func(*args, **kwargs)\n",
    "        print(\"Decorator 2: After function execution\")\n",
    "        return result\n",
    "    return wrapper\n",
    "\n",
    "# Applying both decorators to a single function\n",
    "@decorator1\n",
    "@decorator2\n",
    "def example_function(a, b):\n",
    "    print(\"Inside the example function\")\n",
    "    return a + b\n",
    "# Calling the decorated function\n",
    "result = example_function(3, 4)\n",
    "print(f\"Result: {result}\")"
   ]
  },
  {
   "cell_type": "code",
   "execution_count": 141,
   "id": "b7538ac2-1ae4-4b67-8b9a-9ee9ff7c76de",
   "metadata": {},
   "outputs": [
    {
     "name": "stdout",
     "output_type": "stream",
     "text": [
      "Decorator 1: Before function execution\n",
      "Decorator 2: Before function execution\n",
      "Inside the example function\n",
      "Decorator 2: After function execution\n",
      "Decorator 1: After function execution\n",
      "Result: 7\n"
     ]
    }
   ],
   "source": [
    "#55. Modify the decorator to accept and pass function arguments to the wrapped function.\n",
    "# First decorator\n",
    "def decorator1(func):\n",
    "    def wrapper(*args, **kwargs):\n",
    "        print(\"Decorator 1: Before function execution\")\n",
    "        result = func(*args, **kwargs)  # Pass arguments to the wrapped function\n",
    "        print(\"Decorator 1: After function execution\")\n",
    "        return result\n",
    "    return wrapper\n",
    "\n",
    "# Second decorator\n",
    "def decorator2(func):\n",
    "    def wrapper(*args, **kwargs):\n",
    "        print(\"Decorator 2: Before function execution\")\n",
    "        result = func(*args, **kwargs)  # Pass arguments to the wrapped function\n",
    "        print(\"Decorator 2: After function execution\")\n",
    "        return result\n",
    "    return wrapper\n",
    "\n",
    "# Applying both decorators to a single function\n",
    "@decorator1\n",
    "@decorator2\n",
    "def example_function(a, b):\n",
    "    print(\"Inside the example function\")\n",
    "    return a + b\n",
    "\n",
    "# Calling the decorated function with arguments\n",
    "result = example_function(3, 4)\n",
    "print(f\"Result: {result}\")"
   ]
  },
  {
   "cell_type": "code",
   "execution_count": 142,
   "id": "3ef1cca6-25e4-4d6f-b5aa-4c626fd01d88",
   "metadata": {},
   "outputs": [
    {
     "name": "stdout",
     "output_type": "stream",
     "text": [
      "Decorator 1: Before function execution\n",
      "Decorator 2: Before function execution\n",
      "Inside the example function\n",
      "Decorator 2: After function execution\n",
      "Decorator 1: After function execution\n",
      "Result: 7\n",
      "Function name: example_function\n",
      "Function docstring: This is an example function that adds two numbers.\n"
     ]
    }
   ],
   "source": [
    "#56. Create a decorator that preserves the metadata of the original function.\n",
    "import functools\n",
    "\n",
    "# Decorator 1\n",
    "def decorator1(func):\n",
    "    @functools.wraps(func)\n",
    "    def wrapper(*args, **kwargs):\n",
    "        print(\"Decorator 1: Before function execution\")\n",
    "        result = func(*args, **kwargs)  # Pass arguments to the wrapped function\n",
    "        print(\"Decorator 1: After function execution\")\n",
    "        return result\n",
    "    return wrapper\n",
    "\n",
    "# Decorator 2\n",
    "def decorator2(func):\n",
    "    @functools.wraps(func)\n",
    "    def wrapper(*args, **kwargs):\n",
    "        print(\"Decorator 2: Before function execution\")\n",
    "        result = func(*args, **kwargs)  # Pass arguments to the wrapped function\n",
    "        print(\"Decorator 2: After function execution\")\n",
    "        return result\n",
    "    return wrapper\n",
    "\n",
    "# Applying both decorators to a single function\n",
    "@decorator1\n",
    "@decorator2\n",
    "def example_function(a, b):\n",
    "    \"\"\"This is an example function that adds two numbers.\"\"\"\n",
    "    print(\"Inside the example function\")\n",
    "    return a + b\n",
    "\n",
    "# Calling the decorated function with arguments\n",
    "result = example_function(3, 4)\n",
    "print(f\"Result: {result}\")\n",
    "\n",
    "# Checking the metadata of the original function\n",
    "print(f\"Function name: {example_function.__name__}\")\n",
    "print(f\"Function docstring: {example_function.__doc__}\")"
   ]
  },
  {
   "cell_type": "code",
   "execution_count": 143,
   "id": "cb1cd2b1-8a8e-49bc-9683-22fd151cf36d",
   "metadata": {},
   "outputs": [],
   "source": [
    "#57. CRreate a python class 'calculator' with a staticmethod 'add' that makes in two number and return their sum.\n",
    "\n",
    "class calculator:\n",
    "    @staticmethod\n",
    "    def get_added(x,y):\n",
    "        return x+y\n",
    "        "
   ]
  },
  {
   "cell_type": "code",
   "execution_count": 144,
   "id": "703c73e0-6cf7-436d-a9fb-db14d85e517d",
   "metadata": {},
   "outputs": [],
   "source": [
    "calc=calculator.get_added(3,4)"
   ]
  },
  {
   "cell_type": "code",
   "execution_count": 146,
   "id": "58f035c7-ce62-466b-949d-43b134c2a72f",
   "metadata": {},
   "outputs": [
    {
     "data": {
      "text/plain": [
       "7"
      ]
     },
     "execution_count": 146,
     "metadata": {},
     "output_type": "execute_result"
    }
   ],
   "source": [
    "calc"
   ]
  },
  {
   "cell_type": "code",
   "execution_count": 147,
   "id": "45a3b28c-6e1e-4841-a6bb-4570a40c704b",
   "metadata": {},
   "outputs": [],
   "source": [
    "#58. Create a python class 'employee' with a class method get_employee_count' that returns the total number of employee created.\n",
    "class Employee():\n",
    "    total_employee=0\n",
    "    def __init__(self,name):\n",
    "        self.name=name\n",
    "        Employee.total_employee=Employee.total_employee+1\n",
    "        \n",
    "    @classmethod\n",
    "    def get_employee_count(cls):\n",
    "         return cls.total_employee\n",
    "    "
   ]
  },
  {
   "cell_type": "code",
   "execution_count": 148,
   "id": "d8ae35d3-2c8c-4bf1-9dc7-c85c7450f0f0",
   "metadata": {},
   "outputs": [],
   "source": [
    "emp1=Employee(\"ankit\")"
   ]
  },
  {
   "cell_type": "code",
   "execution_count": 149,
   "id": "6c8d8d9d-c60f-42d0-8e37-119c87884c06",
   "metadata": {},
   "outputs": [
    {
     "data": {
      "text/plain": [
       "1"
      ]
     },
     "execution_count": 149,
     "metadata": {},
     "output_type": "execute_result"
    }
   ],
   "source": [
    "Employee.get_employee_count()"
   ]
  },
  {
   "cell_type": "code",
   "execution_count": 150,
   "id": "f8092fad-c1ad-4a10-a320-39ec2ad6b660",
   "metadata": {},
   "outputs": [],
   "source": [
    "#59. Create a python class 'StringFormatter' with a static method 'reverse_string'that takes a string as input and return its reverse.\n",
    "class StringFormatter:\n",
    "    @staticmethod\n",
    "    def reverse_string(str):\n",
    "        return str[::-1]"
   ]
  },
  {
   "cell_type": "code",
   "execution_count": 151,
   "id": "34f495cd-58bd-413c-80f2-c460a35b783d",
   "metadata": {},
   "outputs": [],
   "source": [
    "word=StringFormatter.reverse_string(\"ankit\")"
   ]
  },
  {
   "cell_type": "code",
   "execution_count": 152,
   "id": "ffd41994-6e25-4245-b30b-c0bf253ea412",
   "metadata": {},
   "outputs": [
    {
     "data": {
      "text/plain": [
       "'tikna'"
      ]
     },
     "execution_count": 152,
     "metadata": {},
     "output_type": "execute_result"
    }
   ],
   "source": [
    "word"
   ]
  },
  {
   "cell_type": "code",
   "execution_count": 153,
   "id": "c53e26b6-e931-4351-bfa4-bfb452d775bb",
   "metadata": {},
   "outputs": [],
   "source": [
    "#60. Create a Python class 'circle' with a class method 'calculate_area' that claculates athe area of circle given its radius.\n",
    "class circle:\n",
    "    def __init__(self,radius):\n",
    "        self.__radius=radius\n",
    "    @property\n",
    "    def radius(self):\n",
    "        return self.__radius\n",
    "    @radius.setter\n",
    "    def radius_set(self,newradius):\n",
    "        self.radius=newradius\n",
    "    def area(self):\n",
    "        return 3.14 * self.radius * self.radius"
   ]
  },
  {
   "cell_type": "code",
   "execution_count": 154,
   "id": "d36c5630-b20a-4cd1-9488-312ae091a28e",
   "metadata": {},
   "outputs": [],
   "source": [
    "c=circle(6)"
   ]
  },
  {
   "cell_type": "code",
   "execution_count": 155,
   "id": "2665a888-4463-4f39-9b24-a30ebce4b25a",
   "metadata": {},
   "outputs": [
    {
     "data": {
      "text/plain": [
       "6"
      ]
     },
     "execution_count": 155,
     "metadata": {},
     "output_type": "execute_result"
    }
   ],
   "source": [
    "c.radius"
   ]
  },
  {
   "cell_type": "code",
   "execution_count": 156,
   "id": "34ca36a2-8bb0-4e7e-a4e9-bce0d6f52011",
   "metadata": {},
   "outputs": [
    {
     "data": {
      "text/plain": [
       "113.03999999999999"
      ]
     },
     "execution_count": 156,
     "metadata": {},
     "output_type": "execute_result"
    }
   ],
   "source": [
    "c.area()"
   ]
  },
  {
   "cell_type": "code",
   "execution_count": 157,
   "id": "07f91109-0912-460f-9e9a-71ed3bd9cb0d",
   "metadata": {},
   "outputs": [],
   "source": [
    "#61. Create a python class \"temprature_converter\" with a static method \"celcius_to_fahrenheit\" that covert celcius to fahrenheit.\n",
    "class Temprature_converter:\n",
    "    @staticmethod\n",
    "    def celcius_to_fahrenheit(celcius):\n",
    "        return 1.8*celcius+32"
   ]
  },
  {
   "cell_type": "code",
   "execution_count": 158,
   "id": "12952036-3b18-469b-9177-f2eaa62e1e20",
   "metadata": {},
   "outputs": [],
   "source": [
    "temp=Temprature_converter.celcius_to_fahrenheit(40)"
   ]
  },
  {
   "cell_type": "code",
   "execution_count": 159,
   "id": "da42fc59-8031-45a0-b69a-276d9688e4cb",
   "metadata": {},
   "outputs": [
    {
     "data": {
      "text/plain": [
       "104.0"
      ]
     },
     "execution_count": 159,
     "metadata": {},
     "output_type": "execute_result"
    }
   ],
   "source": [
    "temp"
   ]
  },
  {
   "cell_type": "code",
   "execution_count": 160,
   "id": "ef75bfcc-1d69-41a4-a808-d000a7a42278",
   "metadata": {},
   "outputs": [],
   "source": [
    "#62. what is the purpose of the __str__() method in python classes ? Provide an example.\n",
    "#The __str__() method in Python is a special method that is used to define a human-readable string representation of an object. This method is called by the str() function and the print() function when applied to an instance of a class. By providing a __str__() method, you can customize what information is displayed when the object is printed or converted to a string."
   ]
  },
  {
   "cell_type": "code",
   "execution_count": 161,
   "id": "c1bf3492-8591-4d15-b4a4-94291c5ad930",
   "metadata": {},
   "outputs": [
    {
     "name": "stdout",
     "output_type": "stream",
     "text": [
      "Person(name=Ankit, age=30)\n",
      "Person(name=Ankit, age=30)\n"
     ]
    }
   ],
   "source": [
    "class Person:\n",
    "    def __init__(self, name, age):\n",
    "        self.name = name\n",
    "        self.age = age\n",
    "    \n",
    "    def __str__(self):\n",
    "        return f\"Person(name={self.name}, age={self.age})\"\n",
    "\n",
    "# Creating an instance of the Person class\n",
    "person = Person(\"Ankit\", 30)\n",
    "\n",
    "# Printing the instance will call the __str__() method\n",
    "print(person)  # Output: Person(name=Ankit, age=30)\n",
    "\n",
    "# Converting the instance to a string will also call the __str__() method\n",
    "person_str = str(person)\n",
    "print(person_str)  # Output: Person(name=Ankit, age=30)"
   ]
  },
  {
   "cell_type": "code",
   "execution_count": 162,
   "id": "3d89839b-a3c2-4514-874c-3a54ddadf881",
   "metadata": {},
   "outputs": [],
   "source": [
    "#63.How does the __len__() method work in python ? Provide an example\n",
    "class MyCollection:\n",
    "    def __init__(self, items):\n",
    "        self.items = items\n",
    "    \n",
    "    def __len__(self):\n",
    "        return len(self.items) "
   ]
  },
  {
   "cell_type": "code",
   "execution_count": 163,
   "id": "c8fbd2be-627c-444e-a5fc-0e0772395d41",
   "metadata": {},
   "outputs": [
    {
     "name": "stdout",
     "output_type": "stream",
     "text": [
      "5\n"
     ]
    }
   ],
   "source": [
    "collection = MyCollection([1, 2, 3, 4, 5])\n",
    "print(len(collection)) "
   ]
  },
  {
   "cell_type": "code",
   "execution_count": 165,
   "id": "da72111e-fee9-4dfd-a5e6-4c3409ca9b40",
   "metadata": {},
   "outputs": [],
   "source": [
    "# It is used to find the length of the object."
   ]
  },
  {
   "cell_type": "code",
   "execution_count": 166,
   "id": "cca85079-7faf-4e38-b513-478b51532841",
   "metadata": {},
   "outputs": [
    {
     "data": {
      "text/plain": [
       "11"
      ]
     },
     "execution_count": 166,
     "metadata": {},
     "output_type": "execute_result"
    }
   ],
   "source": [
    "#64. Explian the usage of __add__() method in python classes.Provide in example.\n",
    "#__add__ is used to add two number.\n",
    "a=4\n",
    "b=7\n",
    "a.__add__(b)"
   ]
  },
  {
   "cell_type": "code",
   "execution_count": 167,
   "id": "cda5de0f-f66b-4eb7-84c1-9c8a6b0e313c",
   "metadata": {},
   "outputs": [],
   "source": [
    "#65. What is the purpose of the __getitem__() method in python ? Provide an example.\n",
    "class MyCollection:\n",
    "    def __init__(self, items):\n",
    "        self.items = items\n",
    "    \n",
    "    def __getitem__(self, index):\n",
    "        return self.items[index] "
   ]
  },
  {
   "cell_type": "code",
   "execution_count": 168,
   "id": "f2f737ad-5429-43b3-9847-0c6a279fec0b",
   "metadata": {},
   "outputs": [
    {
     "name": "stdout",
     "output_type": "stream",
     "text": [
      "30\n",
      "10\n",
      "20\n",
      "30\n",
      "40\n",
      "50\n"
     ]
    }
   ],
   "source": [
    "collection = MyCollection([10, 20, 30, 40, 50])\n",
    "print(collection[2])  \n",
    "for item in collection:\n",
    "    print(item) "
   ]
  },
  {
   "cell_type": "code",
   "execution_count": 169,
   "id": "2fb36f42-84a1-486e-862d-9765ffc50c8f",
   "metadata": {},
   "outputs": [],
   "source": [
    "#66.Explain the usage of __iter__() and __next__ method of python. Provide an example using iterators.\n",
    "#__iter__ returns the iterator object itself. This is needed to support the iterator protocol, allowing the object to be used in a for loop and other contexts requiring an iterator.\n",
    "#__next__ checks if there are more items to return. If so, it returns the next item and updates the index. If there are no more items, it raises StopIteration to signal the end of the iteration."
   ]
  },
  {
   "cell_type": "code",
   "execution_count": 170,
   "id": "5e96a6e0-a067-492d-bce9-c080de5e9c75",
   "metadata": {},
   "outputs": [
    {
     "name": "stdout",
     "output_type": "stream",
     "text": [
      "0\n",
      "1\n",
      "4\n",
      "9\n",
      "16\n",
      "25\n"
     ]
    }
   ],
   "source": [
    "class SquaresIterator:\n",
    "    def __init__(self, limit):\n",
    "        self.limit = limit\n",
    "        self.current = 0\n",
    "\n",
    "    def __iter__(self):\n",
    "        return self\n",
    "\n",
    "    def __next__(self):\n",
    "        if self.current <= self.limit:\n",
    "            result = self.current ** 2\n",
    "            self.current += 1\n",
    "            return result\n",
    "        else:\n",
    "            raise StopIteration\n",
    "\n",
    "# Example usage\n",
    "squares = SquaresIterator(5)\n",
    "\n",
    "for square in squares:\n",
    "    print(square)\n",
    "\n",
    "# Output:\n",
    "# 0\n",
    "# 1\n",
    "# 4\n",
    "# 9\n",
    "# 16\n",
    "# 25\n"
   ]
  },
  {
   "cell_type": "code",
   "execution_count": 171,
   "id": "cb68f9c7-5f75-47cb-8138-84cadcf62003",
   "metadata": {},
   "outputs": [
    {
     "name": "stdout",
     "output_type": "stream",
     "text": [
      "In Python, a getter method is used to access the value of an object's attribute. It allows you to encapsulate and control access to the attribute, providing a way to retrieve its value without directly accessing the attribute. The getter method can also include additional logic, such as validation or transformation, before returning the value.\n"
     ]
    }
   ],
   "source": [
    "#67. What is the purpose of getter method in python ? Provide an example demonstraing the use of getter method using a property decorators.\n",
    "print(\"In Python, a getter method is used to access the value of an object's attribute. It allows you to encapsulate and control access to the attribute, providing a way to retrieve its value without directly accessing the attribute. The getter method can also include additional logic, such as validation or transformation, before returning the value.\")"
   ]
  },
  {
   "cell_type": "code",
   "execution_count": 172,
   "id": "cb747718-60b9-4dcf-b79e-994a10182359",
   "metadata": {},
   "outputs": [
    {
     "name": "stdout",
     "output_type": "stream",
     "text": [
      "Ankit\n",
      "28\n"
     ]
    }
   ],
   "source": [
    "class Person:\n",
    "    def __init__(self, name, age):\n",
    "        self._name = name\n",
    "        self._age = age\n",
    "    \n",
    "    @property\n",
    "    def name(self):\n",
    "        return self._name\n",
    "    \n",
    "    @property\n",
    "    def age(self):\n",
    "        return self._age\n",
    "\n",
    "\n",
    "person = Person(\"Ankit\", 28)\n",
    "print(person.name)  \n",
    "print(person.age)"
   ]
  },
  {
   "cell_type": "code",
   "execution_count": 173,
   "id": "46081607-5928-4c23-a39e-5f088aeca689",
   "metadata": {},
   "outputs": [
    {
     "data": {
      "text/plain": [
       "\"In Python, a setter method is used to control and validate the modification of an object's attribute. It allows you to define how the value of an attribute can be changed and can include logic to ensure the new value is valid.\""
      ]
     },
     "execution_count": 173,
     "metadata": {},
     "output_type": "execute_result"
    }
   ],
   "source": [
    "#68. Explain the role of settr method in python. Demonstrate how to use setter method to modify a class attribute using a property decorator.\n",
    "\"\"\"In Python, a setter method is used to control and validate the modification of an object's attribute. It allows you to define how the value of an attribute can be changed and can include logic to ensure the new value is valid.\"\"\""
   ]
  },
  {
   "cell_type": "code",
   "execution_count": 174,
   "id": "29766443-90db-461e-9478-c9e575aeefe2",
   "metadata": {},
   "outputs": [
    {
     "name": "stdout",
     "output_type": "stream",
     "text": [
      "Ankit\n",
      "30\n",
      "John\n",
      "35\n"
     ]
    }
   ],
   "source": [
    "class Person:\n",
    "    def __init__(self, name, age):\n",
    "        self._name = name\n",
    "        self._age = age\n",
    "    \n",
    "    @property\n",
    "    def name(self):\n",
    "        return self._name\n",
    "    \n",
    "    @name.setter\n",
    "    def name(self, value):\n",
    "        if not isinstance(value, str):\n",
    "            raise ValueError(\"Name must be a string\")\n",
    "        self._name = value\n",
    "    \n",
    "    @property\n",
    "    def age(self):\n",
    "        return self._age\n",
    "    \n",
    "    @age.setter\n",
    "    def age(self, value):\n",
    "        if not isinstance(value, int) or value < 0:\n",
    "            raise ValueError(\"Age must be a positive integer\")\n",
    "        self._age = value\n",
    "\n",
    "# Creating an instance of the Person class\n",
    "person = Person(\"Ankit\", 30)\n",
    "\n",
    "# Accessing the attributes using the getter methods\n",
    "print(person.name)  # Output: Ankit\n",
    "print(person.age)   # Output: 30\n",
    "\n",
    "# Modifying the attributes using the setter methods\n",
    "person.name = \"John\"\n",
    "person.age = 35\n",
    "\n",
    "print(person.name)  # Output: John\n",
    "print(person.age)   # Output: 35\n",
    "\n",
    "# Trying to set invalid values will raise an exception\n",
    "# person.name = 123  # Raises ValueError: Name must be a string\n",
    "# person.age = -5    # Raises ValueError: Age must be a positive integer\n"
   ]
  },
  {
   "cell_type": "code",
   "execution_count": 175,
   "id": "582787a8-ca7a-41bd-ae12-78b4d5270bed",
   "metadata": {},
   "outputs": [],
   "source": [
    "#69. What is the purpose of @proprty decorator in python ? Provide an example illustrating its usage"
   ]
  },
  {
   "cell_type": "code",
   "execution_count": 176,
   "id": "964537bd-ccf7-43d9-a8a3-662f7546a9f2",
   "metadata": {},
   "outputs": [
    {
     "data": {
      "text/plain": [
       "'\\nThe @property decorator in Python is used to define methods in a class that behave like attributes. This means you can define getters, setters, and deleters for class attributes without directly exposing the attribute itself.'"
      ]
     },
     "execution_count": 176,
     "metadata": {},
     "output_type": "execute_result"
    }
   ],
   "source": [
    "\"\"\"\n",
    "The @property decorator in Python is used to define methods in a class that behave like attributes. This means you can define getters, setters, and deleters for class attributes without directly exposing the attribute itself.\"\"\""
   ]
  },
  {
   "cell_type": "code",
   "execution_count": 177,
   "id": "d631d012-a6da-43d4-836f-e96cc9391de1",
   "metadata": {},
   "outputs": [
    {
     "name": "stdout",
     "output_type": "stream",
     "text": [
      "Ankit\n",
      "28\n"
     ]
    }
   ],
   "source": [
    "class Person:\n",
    "    def __init__(self, name, age):\n",
    "        self._name = name\n",
    "        self._age = age\n",
    "    \n",
    "    @property\n",
    "    def name(self):\n",
    "        return self._name\n",
    "    \n",
    "    @property\n",
    "    def age(self):\n",
    "        return self._age\n",
    "\n",
    "\n",
    "person = Person(\"Ankit\", 28)\n",
    "print(person.name)  \n",
    "print(person.age)"
   ]
  },
  {
   "cell_type": "code",
   "execution_count": 178,
   "id": "0934c19e-5e10-4905-964a-f276468c24fc",
   "metadata": {},
   "outputs": [
    {
     "data": {
      "text/plain": [
       "'In Python, the @deleter decorator is used in conjunction with the @property decorator to define a method that will be called when an attribute is deleted using the del statement. The @deleter decorator provides a way to control what happens when an attribute is deleted, allowing you to add custom behavior such as cleaning up resources, logging, or validation before the attribute is actually removed'"
      ]
     },
     "execution_count": 178,
     "metadata": {},
     "output_type": "execute_result"
    }
   ],
   "source": [
    "#70. Explain the use of the @deleter decorator in python property decorator.Provide a code example demonstrating its application.\n",
    "\"\"\"In Python, the @deleter decorator is used in conjunction with the @property decorator to define a method that will be called when an attribute is deleted using the del statement. The @deleter decorator provides a way to control what happens when an attribute is deleted, allowing you to add custom behavior such as cleaning up resources, logging, or validation before the attribute is actually removed\"\"\""
   ]
  },
  {
   "cell_type": "code",
   "execution_count": 179,
   "id": "a1d79063-aed6-4686-b9ef-92d506a65b3e",
   "metadata": {},
   "outputs": [
    {
     "name": "stdout",
     "output_type": "stream",
     "text": [
      "Ankit\n",
      "30\n",
      "John\n",
      "35\n",
      "Deleting name: John\n",
      "Deleting age: 35\n"
     ]
    }
   ],
   "source": [
    "class Person:\n",
    "    def __init__(self, name, age):\n",
    "        self._name = name\n",
    "        self._age = age\n",
    "\n",
    "    @property\n",
    "    def name(self):\n",
    "        return self._name\n",
    "\n",
    "    @name.setter\n",
    "    def name(self, value):\n",
    "        if not isinstance(value, str):\n",
    "            raise ValueError(\"Name must be a string\")\n",
    "        self._name = value\n",
    "\n",
    "    @name.deleter\n",
    "    def name(self):\n",
    "        print(f\"Deleting name: {self._name}\")\n",
    "        del self._name\n",
    "\n",
    "    @property\n",
    "    def age(self):\n",
    "        return self._age\n",
    "\n",
    "    @age.setter\n",
    "    def age(self, value):\n",
    "        if not isinstance(value, int) or value < 0:\n",
    "            raise ValueError(\"Age must be a positive integer\")\n",
    "        self._age = value\n",
    "\n",
    "    @age.deleter\n",
    "    def age(self):\n",
    "        print(f\"Deleting age: {self._age}\")\n",
    "        del self._age\n",
    "\n",
    "# Example usage\n",
    "person = Person(\"Ankit\", 30)\n",
    "\n",
    "# Accessing and modifying attributes using property methods\n",
    "print(person.name)  # Output: Ankit\n",
    "print(person.age)   # Output: 30\n",
    "\n",
    "person.name = \"John\"\n",
    "person.age = 35\n",
    "\n",
    "print(person.name)  # Output: John\n",
    "print(person.age)   # Output: 35\n",
    "\n",
    "# Deleting attributes using deleter methods\n",
    "del person.name     # Output: Deleting name: John\n",
    "del person.age      # Output: Deleting age: 35\n",
    "\n",
    "# Trying to access deleted attributes will raise an AttributeError\n",
    "# print(person.name)  # Uncommenting this line will raise AttributeError\n",
    "# print(person.age)   # Uncommenting this line will raise AttributeError"
   ]
  },
  {
   "cell_type": "code",
   "execution_count": 180,
   "id": "ebb4bec7-d996-40cf-bb5e-5505369a087c",
   "metadata": {},
   "outputs": [
    {
     "data": {
      "text/plain": [
       "'\\nEncapsulation is a fundamental principle of object-oriented programming (OOP) that involves restricting access to the internal state of an object and only exposing a controlled interface for interacting with that state. In Python, property decorators (@property, @<property_name>.setter, and @<property_name>.deleter) are tools that facilitate encapsulation by providing a way to define controlled access to attributes.'"
      ]
     },
     "execution_count": 180,
     "metadata": {},
     "output_type": "execute_result"
    }
   ],
   "source": [
    "#71. How does encapsulation relate to property decorators in python ? Provide an example shoiwcasing encapsulation using property decorator.\n",
    "\"\"\"\n",
    "Encapsulation is a fundamental principle of object-oriented programming (OOP) that involves restricting access to the internal state of an object and only exposing a controlled interface for interacting with that state. In Python, property decorators (@property, @<property_name>.setter, and @<property_name>.deleter) are tools that facilitate encapsulation by providing a way to define controlled access to attributes.\"\"\""
   ]
  },
  {
   "cell_type": "code",
   "execution_count": 181,
   "id": "80fd563f-7c20-4888-8752-b7942a102b51",
   "metadata": {},
   "outputs": [
    {
     "name": "stdout",
     "output_type": "stream",
     "text": [
      "1000\n",
      "1500\n",
      "1300\n",
      "Balance cannot be negative\n",
      "Alice\n",
      "can't set attribute 'owner'\n"
     ]
    }
   ],
   "source": [
    "class BankAccount:\n",
    "    def __init__(self, owner, balance):\n",
    "        self._owner = owner\n",
    "        self._balance = balance\n",
    "\n",
    "    @property\n",
    "    def owner(self):\n",
    "        return self._owner\n",
    "\n",
    "    @property\n",
    "    def balance(self):\n",
    "        return self._balance\n",
    "\n",
    "    @balance.setter\n",
    "    def balance(self, amount):\n",
    "        if amount < 0:\n",
    "            raise ValueError(\"Balance cannot be negative\")\n",
    "        self._balance = amount\n",
    "\n",
    "    def deposit(self, amount):\n",
    "        if amount <= 0:\n",
    "            raise ValueError(\"Deposit amount must be positive\")\n",
    "        self._balance += amount\n",
    "\n",
    "    def withdraw(self, amount):\n",
    "        if amount > self._balance:\n",
    "            raise ValueError(\"Insufficient funds\")\n",
    "        self._balance -= amount\n",
    "\n",
    "# Example usage\n",
    "account = BankAccount(\"Alice\", 1000)\n",
    "\n",
    "# Accessing the balance using the getter method\n",
    "print(account.balance)  # Output: 1000\n",
    "\n",
    "# Depositing money\n",
    "account.deposit(500)\n",
    "print(account.balance)  # Output: 1500\n",
    "\n",
    "# Withdrawing money\n",
    "account.withdraw(200)\n",
    "print(account.balance)  # Output: 1300\n",
    "\n",
    "# Attempting to set a negative balance directly raises an error\n",
    "try:\n",
    "    account.balance = -100  # Raises ValueError: Balance cannot be negative\n",
    "except ValueError as e:\n",
    "    print(e)\n",
    "\n",
    "# Accessing the owner using the getter method\n",
    "print(account.owner)  # Output: Alice\n",
    "\n",
    "# Attempting to modify the owner (not allowed since no setter is defined)\n",
    "try:\n",
    "    account.owner = \"Bob\"  # Raises AttributeError\n",
    "except AttributeError as e:\n",
    "    print(e)"
   ]
  },
  {
   "cell_type": "code",
   "execution_count": null,
   "id": "f2a7f7b4-64f9-4dab-a00c-e3c704eca160",
   "metadata": {},
   "outputs": [],
   "source": []
  }
 ],
 "metadata": {
  "kernelspec": {
   "display_name": "Python 3 (ipykernel)",
   "language": "python",
   "name": "python3"
  },
  "language_info": {
   "codemirror_mode": {
    "name": "ipython",
    "version": 3
   },
   "file_extension": ".py",
   "mimetype": "text/x-python",
   "name": "python",
   "nbconvert_exporter": "python",
   "pygments_lexer": "ipython3",
   "version": "3.10.8"
  }
 },
 "nbformat": 4,
 "nbformat_minor": 5
}
